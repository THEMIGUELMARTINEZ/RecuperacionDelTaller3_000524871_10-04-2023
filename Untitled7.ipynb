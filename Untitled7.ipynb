{
  "nbformat": 4,
  "nbformat_minor": 0,
  "metadata": {
    "colab": {
      "provenance": [],
      "authorship_tag": "ABX9TyPunURvEjlDI91cOAPd58zY",
      "include_colab_link": true
    },
    "kernelspec": {
      "name": "python3",
      "display_name": "Python 3"
    },
    "language_info": {
      "name": "python"
    }
  },
  "cells": [
    {
      "cell_type": "markdown",
      "metadata": {
        "id": "view-in-github",
        "colab_type": "text"
      },
      "source": [
        "<a href=\"https://colab.research.google.com/github/THEMIGUELMARTINEZ/RecuperacionDelTaller3_000524871_10-04-2023/blob/main/Untitled7.ipynb\" target=\"_parent\"><img src=\"https://colab.research.google.com/assets/colab-badge.svg\" alt=\"Open In Colab\"/></a>"
      ]
    },
    {
      "cell_type": "markdown",
      "source": [
        "Condicionales_202310_000524871  \n",
        "\n",
        "Miguel Martinez \n",
        "\n",
        "000524871\n",
        "\n",
        "Miguels.martinez@upb.edu.com"
      ],
      "metadata": {
        "id": "PKvWE3UIE5P3"
      }
    },
    {
      "cell_type": "code",
      "execution_count": 5,
      "metadata": {
        "colab": {
          "base_uri": "https://localhost:8080/"
        },
        "id": "wcUUoa46ELW5",
        "outputId": "39f41777-fe78-40b5-ea21-121d978fc51d"
      },
      "outputs": [
        {
          "output_type": "stream",
          "name": "stdout",
          "text": [
            "Ingresa la calificación del estudiante: 5\n",
            "Excelente\n"
          ]
        }
      ],
      "source": [
        "calificacion = float(input(\"Ingresa la calificación del estudiante: \"))\n",
        "\n",
        "if calificacion >= 4.5 and calificacion <= 5:\n",
        "    print(\"Excelente\")\n",
        "elif calificacion >= 4.0 and calificacion < 4.5:\n",
        "    print(\"Bueno\")\n",
        "elif calificacion >= 3.0 and calificacion < 4.0:\n",
        "    print(\"Regular\")\n",
        "elif calificacion >= 0 and calificacion < 3.0:\n",
        "    print(\"Malo\")\n",
        "else:\n",
        "    print(\"La calificación ingresada es inválida\")"
      ]
    }
  ]
}